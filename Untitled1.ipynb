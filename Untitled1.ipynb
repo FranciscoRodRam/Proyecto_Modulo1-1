{
 "cells": [
  {
   "cell_type": "markdown",
   "metadata": {},
   "source": [
    "<img style=\"float: right; margin: 0px 0px 15px 15px;\" src=\"https://pbs.twimg.com/profile_images/473631107229831168/uaXgXIQW_400x400.jpeg\" width=\"200px\" height=\"100px\" />\n",
    "\n",
    "\n",
    "# Proyecto 1. Calculando el precio futuro de una acción.\n",
    "\n",
    ">El siguiente proyecto pretende simular el comportamiento de la acción Amazon para poder predecir el precio de cierre del día de mañana, dentro de una semana y en un mes."
   ]
  },
  {
   "cell_type": "markdown",
   "metadata": {},
   "source": [
    "## 1.2 Objetivos.\n",
    "\n",
    "Este análisis se hace con el objeto de poder estimar los precios futuros no solo de Amazon sino de cualquier acción. Con el fin de poder tomar decisiones basadas en un estudio del modelo y su comportamiento."
   ]
  },
  {
   "cell_type": "code",
   "execution_count": null,
   "metadata": {
    "collapsed": true
   },
   "outputs": [],
   "source": []
  }
 ],
 "metadata": {
  "kernelspec": {
   "display_name": "Python 3",
   "language": "python",
   "name": "python3"
  },
  "language_info": {
   "codemirror_mode": {
    "name": "ipython",
    "version": 3
   },
   "file_extension": ".py",
   "mimetype": "text/x-python",
   "name": "python",
   "nbconvert_exporter": "python",
   "pygments_lexer": "ipython3",
   "version": "3.6.3"
  }
 },
 "nbformat": 4,
 "nbformat_minor": 2
}
