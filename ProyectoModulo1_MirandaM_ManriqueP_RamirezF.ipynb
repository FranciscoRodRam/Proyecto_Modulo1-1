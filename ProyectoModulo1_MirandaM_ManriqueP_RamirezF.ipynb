{
 "cells": [
  {
   "cell_type": "markdown",
   "metadata": {
    "collapsed": true
   },
   "source": [
    "<img style=\"float: right; margin: 0px 0px 15px 15px;\" src=\"https://pbs.twimg.com/profile_images/473631107229831168/uaXgXIQW_400x400.jpeg\" width=\"200px\" height=\"100px\" />\n",
    "\n",
    "\n",
    "# Proyecto 1. Calculando el precio futuro de una acción.\n",
    "\n",
    "\n",
    "Simulación Matemática.\n",
    "<font color=\"PURPLE\">**INTEGRANTES:**</font>\n",
    "\n",
    "* Paulina Milenka Glez Manrique.\n",
    "* Francisco Rodríguez Ramírez.\n",
    "* Marcos Ortíz Tirado Miranda.\n"
   ]
  },
  {
   "cell_type": "markdown",
   "metadata": {},
   "source": [
    "## 1.2 Objetivos.\n",
    "\n",
    "#### 1.2.1 Objetivo general.\n",
    "\n",
    ">Debido a que las cotizaciones de los activos se mueven siguiendo una tendencia. Conocer cuál es la tendencia actual del mercado o del activo en particular, y poder predecir la que vaya a tener en un futuro próximo, para de esta forma detectar oportunidades de inversión y tomar decisiones en base al comportamiento de éste.\n",
    "\n",
    "#### 1.2.2 Objetivo específico.\n",
    "\n",
    ">En el siguiente proyecto se pretende analizar el comportamiento de acciones a través de un algoritmo usando el lenguaje de programación de python y sus diferentes librerías para poder dicernir el momento oportuno de operar y generar estrategias de inversión. La acción a analizar es Amazon, tomando 60 datos históricos mensuales del precio de cierre de 01 de marzo del 2013 al 01 de febrero del 2018. Con este análisis veremos y analizaremos a cómo estará el valor de la acción dentro de un mes y un año."
   ]
  },
  {
   "cell_type": "markdown",
   "metadata": {},
   "source": [
    "### 1.3 Modelo que representa el problema."
   ]
  },
  {
   "cell_type": "markdown",
   "metadata": {},
   "source": [
    "Algunas de las limitaciones que pueden tener las proyecciones son los factores externos que influyen en el precio de las acciones como el comportamiento de la economía, las condiciones sociales, políticas y el desempeño de la competencia; es decir, el escenario donde se desenvuelve la empresa y cuya situación no depende de ella pero que genera sobre la entidad influencias de primer orden."
   ]
  },
  {
   "cell_type": "code",
   "execution_count": null,
   "metadata": {
    "collapsed": true
   },
   "outputs": [],
   "source": [
    "# Datos de la acción."
   ]
  },
  {
   "cell_type": "code",
   "execution_count": 4,
   "metadata": {
    "collapsed": true
   },
   "outputs": [],
   "source": [
    "import pandas as pd\n",
    "import numpy as np\n",
    "import matplotlib.pyplot as plt\n",
    "%matplotlib inline"
   ]
  },
  {
   "cell_type": "code",
   "execution_count": 7,
   "metadata": {
    "collapsed": true,
    "scrolled": true
   },
   "outputs": [],
   "source": [
    "data_file = 'AMZN.csv.'\n",
    "data = pd.read_csv(data_file, header=None)"
   ]
  },
  {
   "cell_type": "code",
   "execution_count": 8,
   "metadata": {},
   "outputs": [
    {
     "data": {
      "text/html": [
       "<div>\n",
       "<style>\n",
       "    .dataframe thead tr:only-child th {\n",
       "        text-align: right;\n",
       "    }\n",
       "\n",
       "    .dataframe thead th {\n",
       "        text-align: left;\n",
       "    }\n",
       "\n",
       "    .dataframe tbody tr th {\n",
       "        vertical-align: top;\n",
       "    }\n",
       "</style>\n",
       "<table border=\"1\" class=\"dataframe\">\n",
       "  <thead>\n",
       "    <tr style=\"text-align: right;\">\n",
       "      <th></th>\n",
       "      <th>0</th>\n",
       "      <th>1</th>\n",
       "    </tr>\n",
       "  </thead>\n",
       "  <tbody>\n",
       "    <tr>\n",
       "      <th>0</th>\n",
       "      <td>1</td>\n",
       "      <td>266.489990</td>\n",
       "    </tr>\n",
       "    <tr>\n",
       "      <th>1</th>\n",
       "      <td>2</td>\n",
       "      <td>253.809998</td>\n",
       "    </tr>\n",
       "    <tr>\n",
       "      <th>2</th>\n",
       "      <td>3</td>\n",
       "      <td>269.200012</td>\n",
       "    </tr>\n",
       "    <tr>\n",
       "      <th>3</th>\n",
       "      <td>4</td>\n",
       "      <td>277.690002</td>\n",
       "    </tr>\n",
       "    <tr>\n",
       "      <th>4</th>\n",
       "      <td>5</td>\n",
       "      <td>301.220001</td>\n",
       "    </tr>\n",
       "    <tr>\n",
       "      <th>5</th>\n",
       "      <td>6</td>\n",
       "      <td>280.980011</td>\n",
       "    </tr>\n",
       "    <tr>\n",
       "      <th>6</th>\n",
       "      <td>7</td>\n",
       "      <td>312.640015</td>\n",
       "    </tr>\n",
       "    <tr>\n",
       "      <th>7</th>\n",
       "      <td>8</td>\n",
       "      <td>364.029999</td>\n",
       "    </tr>\n",
       "    <tr>\n",
       "      <th>8</th>\n",
       "      <td>9</td>\n",
       "      <td>393.619995</td>\n",
       "    </tr>\n",
       "    <tr>\n",
       "      <th>9</th>\n",
       "      <td>10</td>\n",
       "      <td>398.790009</td>\n",
       "    </tr>\n",
       "    <tr>\n",
       "      <th>10</th>\n",
       "      <td>11</td>\n",
       "      <td>358.690002</td>\n",
       "    </tr>\n",
       "    <tr>\n",
       "      <th>11</th>\n",
       "      <td>12</td>\n",
       "      <td>362.100006</td>\n",
       "    </tr>\n",
       "    <tr>\n",
       "      <th>12</th>\n",
       "      <td>13</td>\n",
       "      <td>336.369995</td>\n",
       "    </tr>\n",
       "    <tr>\n",
       "      <th>13</th>\n",
       "      <td>14</td>\n",
       "      <td>304.130005</td>\n",
       "    </tr>\n",
       "    <tr>\n",
       "      <th>14</th>\n",
       "      <td>15</td>\n",
       "      <td>312.549988</td>\n",
       "    </tr>\n",
       "    <tr>\n",
       "      <th>15</th>\n",
       "      <td>16</td>\n",
       "      <td>324.779999</td>\n",
       "    </tr>\n",
       "    <tr>\n",
       "      <th>16</th>\n",
       "      <td>17</td>\n",
       "      <td>312.989990</td>\n",
       "    </tr>\n",
       "    <tr>\n",
       "      <th>17</th>\n",
       "      <td>18</td>\n",
       "      <td>339.040009</td>\n",
       "    </tr>\n",
       "    <tr>\n",
       "      <th>18</th>\n",
       "      <td>19</td>\n",
       "      <td>322.440002</td>\n",
       "    </tr>\n",
       "    <tr>\n",
       "      <th>19</th>\n",
       "      <td>20</td>\n",
       "      <td>305.459991</td>\n",
       "    </tr>\n",
       "    <tr>\n",
       "      <th>20</th>\n",
       "      <td>21</td>\n",
       "      <td>338.640015</td>\n",
       "    </tr>\n",
       "    <tr>\n",
       "      <th>21</th>\n",
       "      <td>22</td>\n",
       "      <td>310.350006</td>\n",
       "    </tr>\n",
       "    <tr>\n",
       "      <th>22</th>\n",
       "      <td>23</td>\n",
       "      <td>354.529999</td>\n",
       "    </tr>\n",
       "    <tr>\n",
       "      <th>23</th>\n",
       "      <td>24</td>\n",
       "      <td>380.160004</td>\n",
       "    </tr>\n",
       "    <tr>\n",
       "      <th>24</th>\n",
       "      <td>25</td>\n",
       "      <td>372.100006</td>\n",
       "    </tr>\n",
       "    <tr>\n",
       "      <th>25</th>\n",
       "      <td>26</td>\n",
       "      <td>421.779999</td>\n",
       "    </tr>\n",
       "    <tr>\n",
       "      <th>26</th>\n",
       "      <td>27</td>\n",
       "      <td>429.230011</td>\n",
       "    </tr>\n",
       "    <tr>\n",
       "      <th>27</th>\n",
       "      <td>28</td>\n",
       "      <td>434.089996</td>\n",
       "    </tr>\n",
       "    <tr>\n",
       "      <th>28</th>\n",
       "      <td>29</td>\n",
       "      <td>536.150024</td>\n",
       "    </tr>\n",
       "    <tr>\n",
       "      <th>29</th>\n",
       "      <td>30</td>\n",
       "      <td>512.890015</td>\n",
       "    </tr>\n",
       "    <tr>\n",
       "      <th>30</th>\n",
       "      <td>31</td>\n",
       "      <td>511.890015</td>\n",
       "    </tr>\n",
       "    <tr>\n",
       "      <th>31</th>\n",
       "      <td>32</td>\n",
       "      <td>625.900024</td>\n",
       "    </tr>\n",
       "    <tr>\n",
       "      <th>32</th>\n",
       "      <td>33</td>\n",
       "      <td>664.799988</td>\n",
       "    </tr>\n",
       "    <tr>\n",
       "      <th>33</th>\n",
       "      <td>34</td>\n",
       "      <td>675.890015</td>\n",
       "    </tr>\n",
       "    <tr>\n",
       "      <th>34</th>\n",
       "      <td>35</td>\n",
       "      <td>587.000000</td>\n",
       "    </tr>\n",
       "    <tr>\n",
       "      <th>35</th>\n",
       "      <td>36</td>\n",
       "      <td>552.520020</td>\n",
       "    </tr>\n",
       "    <tr>\n",
       "      <th>36</th>\n",
       "      <td>37</td>\n",
       "      <td>593.640015</td>\n",
       "    </tr>\n",
       "    <tr>\n",
       "      <th>37</th>\n",
       "      <td>38</td>\n",
       "      <td>659.590027</td>\n",
       "    </tr>\n",
       "    <tr>\n",
       "      <th>38</th>\n",
       "      <td>39</td>\n",
       "      <td>722.789978</td>\n",
       "    </tr>\n",
       "    <tr>\n",
       "      <th>39</th>\n",
       "      <td>40</td>\n",
       "      <td>715.619995</td>\n",
       "    </tr>\n",
       "    <tr>\n",
       "      <th>40</th>\n",
       "      <td>41</td>\n",
       "      <td>758.809998</td>\n",
       "    </tr>\n",
       "    <tr>\n",
       "      <th>41</th>\n",
       "      <td>42</td>\n",
       "      <td>769.159973</td>\n",
       "    </tr>\n",
       "    <tr>\n",
       "      <th>42</th>\n",
       "      <td>43</td>\n",
       "      <td>837.309998</td>\n",
       "    </tr>\n",
       "    <tr>\n",
       "      <th>43</th>\n",
       "      <td>44</td>\n",
       "      <td>789.820007</td>\n",
       "    </tr>\n",
       "    <tr>\n",
       "      <th>44</th>\n",
       "      <td>45</td>\n",
       "      <td>750.570007</td>\n",
       "    </tr>\n",
       "    <tr>\n",
       "      <th>45</th>\n",
       "      <td>46</td>\n",
       "      <td>768.659973</td>\n",
       "    </tr>\n",
       "    <tr>\n",
       "      <th>46</th>\n",
       "      <td>47</td>\n",
       "      <td>823.479980</td>\n",
       "    </tr>\n",
       "    <tr>\n",
       "      <th>47</th>\n",
       "      <td>48</td>\n",
       "      <td>845.039978</td>\n",
       "    </tr>\n",
       "    <tr>\n",
       "      <th>48</th>\n",
       "      <td>49</td>\n",
       "      <td>886.539978</td>\n",
       "    </tr>\n",
       "    <tr>\n",
       "      <th>49</th>\n",
       "      <td>50</td>\n",
       "      <td>924.989990</td>\n",
       "    </tr>\n",
       "    <tr>\n",
       "      <th>50</th>\n",
       "      <td>51</td>\n",
       "      <td>994.619995</td>\n",
       "    </tr>\n",
       "    <tr>\n",
       "      <th>51</th>\n",
       "      <td>52</td>\n",
       "      <td>968.000000</td>\n",
       "    </tr>\n",
       "    <tr>\n",
       "      <th>52</th>\n",
       "      <td>53</td>\n",
       "      <td>987.780029</td>\n",
       "    </tr>\n",
       "    <tr>\n",
       "      <th>53</th>\n",
       "      <td>54</td>\n",
       "      <td>980.599976</td>\n",
       "    </tr>\n",
       "    <tr>\n",
       "      <th>54</th>\n",
       "      <td>55</td>\n",
       "      <td>961.349976</td>\n",
       "    </tr>\n",
       "    <tr>\n",
       "      <th>55</th>\n",
       "      <td>56</td>\n",
       "      <td>1105.280029</td>\n",
       "    </tr>\n",
       "    <tr>\n",
       "      <th>56</th>\n",
       "      <td>57</td>\n",
       "      <td>1176.750000</td>\n",
       "    </tr>\n",
       "    <tr>\n",
       "      <th>57</th>\n",
       "      <td>58</td>\n",
       "      <td>1169.469971</td>\n",
       "    </tr>\n",
       "    <tr>\n",
       "      <th>58</th>\n",
       "      <td>59</td>\n",
       "      <td>1450.890015</td>\n",
       "    </tr>\n",
       "    <tr>\n",
       "      <th>59</th>\n",
       "      <td>60</td>\n",
       "      <td>1521.949951</td>\n",
       "    </tr>\n",
       "  </tbody>\n",
       "</table>\n",
       "</div>"
      ],
      "text/plain": [
       "     0            1\n",
       "0    1   266.489990\n",
       "1    2   253.809998\n",
       "2    3   269.200012\n",
       "3    4   277.690002\n",
       "4    5   301.220001\n",
       "5    6   280.980011\n",
       "6    7   312.640015\n",
       "7    8   364.029999\n",
       "8    9   393.619995\n",
       "9   10   398.790009\n",
       "10  11   358.690002\n",
       "11  12   362.100006\n",
       "12  13   336.369995\n",
       "13  14   304.130005\n",
       "14  15   312.549988\n",
       "15  16   324.779999\n",
       "16  17   312.989990\n",
       "17  18   339.040009\n",
       "18  19   322.440002\n",
       "19  20   305.459991\n",
       "20  21   338.640015\n",
       "21  22   310.350006\n",
       "22  23   354.529999\n",
       "23  24   380.160004\n",
       "24  25   372.100006\n",
       "25  26   421.779999\n",
       "26  27   429.230011\n",
       "27  28   434.089996\n",
       "28  29   536.150024\n",
       "29  30   512.890015\n",
       "30  31   511.890015\n",
       "31  32   625.900024\n",
       "32  33   664.799988\n",
       "33  34   675.890015\n",
       "34  35   587.000000\n",
       "35  36   552.520020\n",
       "36  37   593.640015\n",
       "37  38   659.590027\n",
       "38  39   722.789978\n",
       "39  40   715.619995\n",
       "40  41   758.809998\n",
       "41  42   769.159973\n",
       "42  43   837.309998\n",
       "43  44   789.820007\n",
       "44  45   750.570007\n",
       "45  46   768.659973\n",
       "46  47   823.479980\n",
       "47  48   845.039978\n",
       "48  49   886.539978\n",
       "49  50   924.989990\n",
       "50  51   994.619995\n",
       "51  52   968.000000\n",
       "52  53   987.780029\n",
       "53  54   980.599976\n",
       "54  55   961.349976\n",
       "55  56  1105.280029\n",
       "56  57  1176.750000\n",
       "57  58  1169.469971\n",
       "58  59  1450.890015\n",
       "59  60  1521.949951"
      ]
     },
     "execution_count": 8,
     "metadata": {},
     "output_type": "execute_result"
    }
   ],
   "source": [
    "data"
   ]
  },
  {
   "cell_type": "markdown",
   "metadata": {},
   "source": [
    "Donde la segunda columna representa el día primero de marzo del 2013 hasta el dato 60 que es el primero de Febrero de 2018 con datos mensuales. La tercera columna significa los precios de cierre de Amazon."
   ]
  },
  {
   "cell_type": "markdown",
   "metadata": {
    "collapsed": true
   },
   "source": [
    "### 1.4 Simulaciones."
   ]
  },
  {
   "cell_type": "code",
   "execution_count": 10,
   "metadata": {
    "collapsed": true
   },
   "outputs": [],
   "source": [
    "x = data.iloc[:, 0].values\n",
    "y = data.iloc[:, 1].values"
   ]
  },
  {
   "cell_type": "code",
   "execution_count": 11,
   "metadata": {
    "collapsed": true
   },
   "outputs": [],
   "source": [
    "def fun_obj(B, x, y, n):\n",
    "    return np.mean((y-np.array([x**i for i in range(n+1)]).T.dot(B))**2)"
   ]
  },
  {
   "cell_type": "code",
   "execution_count": 12,
   "metadata": {
    "collapsed": true
   },
   "outputs": [],
   "source": [
    "import scipy.optimize as opt"
   ]
  },
  {
   "cell_type": "code",
   "execution_count": 13,
   "metadata": {
    "collapsed": true
   },
   "outputs": [],
   "source": [
    "B01 = np.zeros(2)\n",
    "ajuste1 = opt.minimize(fun_obj, B01, args=(x,y,1))\n",
    "B02 = np.zeros(3)\n",
    "ajuste2 = opt.minimize(fun_obj, B02, args=(x,y,2))\n",
    "B03 = np.zeros(4)\n",
    "ajuste3 = opt.minimize(fun_obj, B03, args=(x,y,3))\n",
    "B04 = np. zeros(5)\n",
    "ajuste4 = opt.minimize(fun_obj,B04,args=(x,y,4))\n",
    "B05 = np. zeros(6)\n",
    "ajuste5 = opt.minimize(fun_obj,B05,args=(x,y,5))"
   ]
  },
  {
   "cell_type": "markdown",
   "metadata": {},
   "source": [
    "### 1.5 Visualización de resultados de simulación."
   ]
  },
  {
   "cell_type": "code",
   "execution_count": 14,
   "metadata": {},
   "outputs": [
    {
     "data": {
      "image/png": "[encoded data removed]",
      "text/plain": [
       "<matplotlib.figure.Figure at 0x1ebdda58e10>"
      ]
     },
     "metadata": {},
     "output_type": "display_data"
    }
   ],
   "source": [
    "yhat1 = ajuste1.x[0]+ajuste1.x[1]*x\n",
    "yhat2 = ajuste2.x[0]+ajuste2.x[1]*x+ajuste2.x[2]*x**2\n",
    "yhat3 = ajuste3.x[0]+ajuste3.x[1]*x+ajuste3.x[2]*x**2+ajuste3.x[3]*x**3\n",
    "yhat4= ajuste4.x[0]+ajuste4.x[1]*x+ajuste4.x[2]*x**2+ajuste4.x[3]*x**3+ajuste4.x[4]*x**4 \n",
    "yhat5 = ajuste5.x[0]+ajuste5.x[1]*x+ajuste5.x[2]*x**2+ajuste5.x[3]*x**3+ajuste5.x[4]*x**4+ajuste5.x[5]*x**5\n",
    "\n",
    "plt.figure(figsize=(8,6))\n",
    "plt.plot(x, y,\"o\" ,label = 'datos reales')\n",
    "plt.plot(x, yhat1, label = 'ajuste 1')\n",
    "plt.plot(x, yhat2, label = 'ajuste 2')\n",
    "plt.plot(x, yhat3, label = 'ajuste 3')\n",
    "plt.plot(x,yhat4,label= \"ajuste 4\" )\n",
    "plt.plot(x,yhat5, label =\"ajuste 5\")\n",
    "plt.xlabel('meses')\n",
    "plt.ylabel('Precio de cierre')\n",
    "plt.legend(loc='best')\n",
    "plt.show()"
   ]
  },
  {
   "cell_type": "code",
   "execution_count": 16,
   "metadata": {},
   "outputs": [
    {
     "data": {
      "image/png": "[encoded data removed]",
      "text/plain": [
       "<matplotlib.figure.Figure at 0x1ebdf10c780>"
      ]
     },
     "metadata": {},
     "output_type": "display_data"
    }
   ],
   "source": [
    "error1 = np.mean((y-yhat1)**2)\n",
    "error2 = np.mean((y-yhat2)**2)\n",
    "error3 = np.mean((y-yhat3)**2)\n",
    "error4 = np.mean((y-yhat4)**2)\n",
    "error5 = np.mean((y-yhat5)**2)\n",
    "\n",
    "plt.figure(figsize=(8,6))\n",
    "plt.plot([1,2,3,4,5],[error1,error2,error3,error4,error5], 'o')\n",
    "plt.xlabel('orden del polinomio')\n",
    "plt.ylabel('error cuadrático')\n",
    "plt.show()"
   ]
  },
  {
   "cell_type": "markdown",
   "metadata": {},
   "source": [
    "Observando la gráfica nos damos cuenta que el polinomio que se ajusta mejor a nuestra curva es el de grado 4"
   ]
  },
  {
   "cell_type": "markdown",
   "metadata": {
    "collapsed": true
   },
   "source": []
  },
  {
   "cell_type": "markdown",
   "metadata": {},
   "source": [
    "### 1.6 Conclusiones."
   ]
  },
  {
   "cell_type": "code",
   "execution_count": null,
   "metadata": {
    "collapsed": true
   },
   "outputs": [],
   "source": []
  },
  {
   "cell_type": "markdown",
   "metadata": {},
   "source": [
    "### 1.7 Referencias.\n",
    "\n",
    "Yahoo Finance. Historical data Amazon. Recuperado el 27 de febrero del 2018 de https://finance.yahoo.com/quote/AMZN/history?p=AMZN"
   ]
  },
  {
   "cell_type": "code",
   "execution_count": null,
   "metadata": {
    "collapsed": true
   },
   "outputs": [],
   "source": []
  }
 ],
 "metadata": {
  "kernelspec": {
   "display_name": "Python 3",
   "language": "python",
   "name": "python3"
  },
  "language_info": {
   "codemirror_mode": {
    "name": "ipython",
    "version": 3
   },
   "file_extension": ".py",
   "mimetype": "text/x-python",
   "name": "python",
   "nbconvert_exporter": "python",
   "pygments_lexer": "ipython3",
   "version": "3.6.3"
  }
 },
 "nbformat": 4,
 "nbformat_minor": 2
}
